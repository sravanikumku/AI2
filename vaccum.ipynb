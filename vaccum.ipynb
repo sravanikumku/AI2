{
  "nbformat": 4,
  "nbformat_minor": 0,
  "metadata": {
    "colab": {
      "provenance": [],
      "authorship_tag": "ABX9TyP75lWj5MNJOWr3OlQH14Gs",
      "include_colab_link": true
    },
    "kernelspec": {
      "name": "python3",
      "display_name": "Python 3"
    },
    "language_info": {
      "name": "python"
    }
  },
  "cells": [
    {
      "cell_type": "markdown",
      "metadata": {
        "id": "view-in-github",
        "colab_type": "text"
      },
      "source": [
        "<a href=\"https://colab.research.google.com/github/sravanikumku/AI2/blob/main/vaccum.ipynb\" target=\"_parent\"><img src=\"https://colab.research.google.com/assets/colab-badge.svg\" alt=\"Open In Colab\"/></a>"
      ]
    },
    {
      "cell_type": "code",
      "execution_count": null,
      "metadata": {
        "colab": {
          "base_uri": "https://localhost:8080/"
        },
        "id": "Qvn79mcDnVKt",
        "outputId": "2c402d16-a770-4e3e-8781-131187ce686d"
      },
      "outputs": [
        {
          "output_type": "stream",
          "name": "stdout",
          "text": [
            "[['L', [1, 1]], ['L', [0, 1]], ['R', [0, 1]], ['R', [0, 0]]]\n",
            "cleaned\n"
          ]
        }
      ],
      "source": [
        "def vaccum():\n",
        "  i1=['L',[1,1]]\n",
        "  f1=['L',[0,0]]\n",
        "  f2=['R',[0,0]]\n",
        "  q=[]\n",
        "  visited=[]\n",
        "  q.append(i1)\n",
        "  while True:\n",
        "    u=q.pop(-1)\n",
        "    visited.append(u)\n",
        "    if u==f1 or u==f2:\n",
        "      print(visited)\n",
        "      print(\"cleaned\")\n",
        "      return\n",
        "    child=generatechild(u)\n",
        "    for i in child:\n",
        "      if i not in visited:\n",
        "         q.append(i)\n",
        "vaccum()\n",
        "\n"
      ]
    },
    {
      "cell_type": "code",
      "source": [
        "def generatechild(u):\n",
        "  h=[]\n",
        "  if u[0]=='L':\n",
        "    h.append(['R',u[1]])\n",
        "    h.append(['L',[0,u[1][1]]])\n",
        "  else:\n",
        "    h.append(['L',u[1]])\n",
        "    h.append(['R',[u[1][0],0]])\n",
        "  return h\n",
        "\n",
        "\n",
        "\n",
        "\n"
      ],
      "metadata": {
        "id": "gNLqEXXGso1_"
      },
      "execution_count": null,
      "outputs": []
    },
    {
      "cell_type": "code",
      "source": [],
      "metadata": {
        "id": "_gf7AQ_Kx568"
      },
      "execution_count": null,
      "outputs": []
    }
  ]
}