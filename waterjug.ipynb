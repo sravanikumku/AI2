{
  "nbformat": 4,
  "nbformat_minor": 0,
  "metadata": {
    "colab": {
      "provenance": [],
      "authorship_tag": "ABX9TyNvnDfrk13xoRTNfNhuyk7u",
      "include_colab_link": true
    },
    "kernelspec": {
      "name": "python3",
      "display_name": "Python 3"
    },
    "language_info": {
      "name": "python"
    }
  },
  "cells": [
    {
      "cell_type": "markdown",
      "metadata": {
        "id": "view-in-github",
        "colab_type": "text"
      },
      "source": [
        "<a href=\"https://colab.research.google.com/github/sravanikumku/AI2/blob/main/waterjug.ipynb\" target=\"_parent\"><img src=\"https://colab.research.google.com/assets/colab-badge.svg\" alt=\"Open In Colab\"/></a>"
      ]
    },
    {
      "cell_type": "code",
      "execution_count": null,
      "metadata": {
        "id": "4IxkWj-nIJP1",
        "colab": {
          "base_uri": "https://localhost:8080/"
        },
        "outputId": "2f137c0d-6cd2-49bc-db38-c095d8e7f92a"
      },
      "outputs": [
        {
          "output_type": "stream",
          "name": "stdout",
          "text": [
            "Enter first jug quantity5\n",
            "Enter second jug quantity3\n",
            "Enter quantity to be measured2\n",
            "success\n",
            "[[0, 0], [5, 0], [2, 3]]\n"
          ]
        },
        {
          "output_type": "execute_result",
          "data": {
            "text/plain": [
              "True"
            ]
          },
          "metadata": {},
          "execution_count": 33
        }
      ],
      "source": [
        "#water jug\n",
        "def wjbfs():\n",
        "  visited=[]\n",
        "  q=[]\n",
        "  j1=int(input(\"Enter first jug quantity\"))\n",
        "  j2=int(input(\"Enter second jug quantity\"))\n",
        "  q1=int(input(\"Enter quantity to be measured\"))\n",
        "  i=[0,0]\n",
        "  u=i\n",
        "  q.append(u)\n",
        "  if(len(q)==0):\n",
        "    return False\n",
        "  if q1==u[0] :\n",
        "    print(\"success\")\n",
        "    return path(a,i,o,visited)\n",
        "  while(True):\n",
        "         u=q.pop(0)\n",
        "         if(u[0]==q1):\n",
        "           print(visited)\n",
        "           return visited\n",
        "         visited.append(u)\n",
        "         child=generatechild(u,j1,j2)\n",
        "         for i in child:\n",
        "           if i not in visited and i not in q:\n",
        "             q.append(i)\n",
        "             if(i[0]==q1):\n",
        "               print(\"success\")\n",
        "               visited.append(i)\n",
        "               print(visited)\n",
        "               return True\n",
        "         \n",
        "wjbfs()"
      ]
    },
    {
      "cell_type": "code",
      "source": [
        "def generatechild(u,j1,j2):\n",
        "  q1=u[0]\n",
        "  q2=u[1]\n",
        "  c=[]\n",
        "  #fill\n",
        "  if q1<=0:\n",
        "    c.append([j1,q2])\n",
        "  if q2<=0:\n",
        "    c.append([q1,j2])\n",
        "  #empty\n",
        "  if q1>0:\n",
        "    c.append([0,q2])\n",
        "  if q2>0:\n",
        "    c.append([q1,0])\n",
        "  #transfer\n",
        "  if q1+q2>=j1 and q2>0:\n",
        "    c.append([j1,q2-(j1-q1)])\n",
        "  if q1+q2>=j2 and q1>0:\n",
        "    c.append([q1-(j2-q2),j2])\n",
        "  if q1+q2<=j1 and q2>0:\n",
        "    c.append([q1+q2,0])\n",
        "  if q1+q2<=j2 and q1>0:\n",
        "    c.append([0,q1+q2])\n",
        "  return c\n",
        "    "
      ],
      "metadata": {
        "id": "SlZ_wizPP-xh"
      },
      "execution_count": null,
      "outputs": []
    }
  ]
}