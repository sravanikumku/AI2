{
  "nbformat": 4,
  "nbformat_minor": 0,
  "metadata": {
    "colab": {
      "provenance": [],
      "authorship_tag": "ABX9TyP3q/tgnnnPMaOCII+MfZml",
      "include_colab_link": true
    },
    "kernelspec": {
      "name": "python3",
      "display_name": "Python 3"
    },
    "language_info": {
      "name": "python"
    }
  },
  "cells": [
    {
      "cell_type": "markdown",
      "metadata": {
        "id": "view-in-github",
        "colab_type": "text"
      },
      "source": [
        "<a href=\"https://colab.research.google.com/github/sravanikumku/AI2/blob/main/Bidirectional.ipynb\" target=\"_parent\"><img src=\"https://colab.research.google.com/assets/colab-badge.svg\" alt=\"Open In Colab\"/></a>"
      ]
    },
    {
      "cell_type": "code",
      "execution_count": 2,
      "metadata": {
        "id": "V9hI5FzBlOAe",
        "colab": {
          "base_uri": "https://localhost:8080/"
        },
        "outputId": "86961566-4d84-4726-8a9f-ba35a1a951d4"
      },
      "outputs": [
        {
          "output_type": "stream",
          "name": "stdout",
          "text": [
            "Enter initial state0\n",
            "Enter final state14\n",
            "[0]\n",
            "[14]\n",
            "[4]\n",
            "[10]\n",
            "[1, 6]\n",
            "[8, 13]\n",
            "[6]\n",
            "[13, 7, 9]\n",
            "[5, 7]\n",
            "[7, 9]\n",
            "[7, 2, 3]\n",
            "[9, 6]\n",
            "Reached\n"
          ]
        }
      ],
      "source": [
        "def bidirectional(g):\n",
        "  i=int(input(\"Enter initial state\"))\n",
        "  o=int(input(\"Enter final state\"))\n",
        "  visitedi=[]\n",
        "  qi=[]\n",
        "  qo=[]\n",
        "  visitedo=[]\n",
        "  qi.append(i)\n",
        "  qo.append(o)\n",
        "  while(True):\n",
        "    print(qi)\n",
        "    print(qo)\n",
        "    ui=qi.pop(0)\n",
        "    uo=qo.pop(0)\n",
        "    visitedi.append(ui)\n",
        "    visitedo.append(uo)\n",
        "    if ui in visitedo or uo in visitedi:\n",
        "      print(\"Reached\")\n",
        "      break\n",
        "    for i in range(len(g)):\n",
        "      if g[ui][i]!=0 and i not in visitedi:\n",
        "        qi.append(i)\n",
        "\n",
        "      if g[uo][i]!=0 and i not in visitedo:\n",
        "        qo.append(i)\n",
        "\n",
        "bidirectional(a)"
      ]
    },
    {
      "cell_type": "code",
      "source": [],
      "metadata": {
        "id": "X_rte3Z0oHKy"
      },
      "execution_count": null,
      "outputs": []
    },
    {
      "cell_type": "code",
      "source": [
        "a=[[0, 0, 0, 0, 1, 0, 0, 0, 0, 0, 0, 0, 0, 0, 0],\n",
        "  \t\t[0, 0, 0, 0, 1, 0, 0, 0, 0, 0, 0, 0, 0, 0, 0],\n",
        "\t\t[0, 0, 0, 0, 0, 1, 0, 0, 0, 0, 0, 0, 0, 0, 0],\n",
        " \t\t[0, 0, 0, 0, 0, 1, 0 ,0 ,0, 0, 0, 0, 0, 0, 0 ],\n",
        "  \t\t[1,  1, 0, 0, 0, 0 ,1, 0, 0, 0, 0, 0, 0, 0, 0],\n",
        "  \t\t[0 ,0, 1, 1,  0, 0, 1, 0, 0, 0, 0, 0, 0, 0, 0],\n",
        "  \t\t[0, 0, 0, 0, 1, 1, 0, 1,  0,  0 ,0 ,0, 0, 0, 0],\n",
        "  \t\t[0 ,0 ,0 ,0 ,0 ,0 ,1 ,0 ,1 ,0 ,0 ,0 ,0 ,0 ,0],\n",
        "  \t\t[0 ,0 ,0 ,0, 0, 0 ,0, 1, 0, 1, 1, 0, 0 ,0, 0],\n",
        "  \t\t[0, 0, 0, 0, 0, 0 ,0 ,0 ,1 ,0 ,0 ,1, 1, 0, 0],\n",
        "\t\t [0, 0, 0, 0 ,0 ,0 ,0 ,0 ,1 ,0 ,1 ,0 ,0, 1, 1],\n",
        " \t\t [0, 0, 0, 0, 0 ,0 ,0 ,0 ,0 ,1 ,0 ,0 ,0 ,0 ,0],\n",
        "\t\t [0, 0, 0, 0, 0, 0, 0, 0, 0 ,1 ,0 ,0 ,0, 0, 0],\n",
        "\t\t  [0, 0, 0, 0, 0, 0, 0, 0, 0, 0, 1, 0, 0, 0, 0],\n",
        "\t\t  [0 ,0, 0, 0, 0, 0, 0 ,0 ,0, 0, 1, 0 ,0 ,0 ,0]]"
      ],
      "metadata": {
        "id": "TklZfZy3ogtu"
      },
      "execution_count": 1,
      "outputs": []
    },
    {
      "cell_type": "code",
      "source": [],
      "metadata": {
        "id": "P-vPKjTBpqY1"
      },
      "execution_count": null,
      "outputs": []
    }
  ]
}