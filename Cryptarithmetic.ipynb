{
  "nbformat": 4,
  "nbformat_minor": 0,
  "metadata": {
    "colab": {
      "provenance": [],
      "authorship_tag": "ABX9TyN9+Z3NxQMegeVD16rzeBCq",
      "include_colab_link": true
    },
    "kernelspec": {
      "name": "python3",
      "display_name": "Python 3"
    },
    "language_info": {
      "name": "python"
    }
  },
  "cells": [
    {
      "cell_type": "markdown",
      "metadata": {
        "id": "view-in-github",
        "colab_type": "text"
      },
      "source": [
        "<a href=\"https://colab.research.google.com/github/sravanikumku/AI2/blob/main/Cryptarithmetic.ipynb\" target=\"_parent\"><img src=\"https://colab.research.google.com/assets/colab-badge.svg\" alt=\"Open In Colab\"/></a>"
      ]
    },
    {
      "cell_type": "code",
      "execution_count": null,
      "metadata": {
        "colab": {
          "base_uri": "https://localhost:8080/"
        },
        "id": "xHLHScpiofm3",
        "outputId": "b99923b3-0b05-4f22-fddd-9da9efe66304"
      },
      "outputs": [
        {
          "output_type": "stream",
          "name": "stdout",
          "text": [
            " send  more  money\n",
            "(9567, 1085, 10652)\n"
          ]
        }
      ],
      "source": [
        "import itertools\n",
        "def solve2():\n",
        "    letters = ('s', 'e', 'n', 'd', 'm', 'o', 'r', 'y')\n",
        "    digits = range(10)\n",
        "    for perm in itertools.permutations(digits, len(letters)):\n",
        "        sol = dict(zip(letters, perm))\n",
        "        if sol['s'] == 0 or sol['m'] == 0:\n",
        "            continue\n",
        "        send = 1000 * sol['s'] + 100 * sol['e'] + 10 * sol['n'] + sol['d']\n",
        "        more = 1000 * sol['m'] + 100 * sol['o'] + 10 * sol['r'] + sol['e']\n",
        "        money = 10000 * sol['m'] + 1000 * sol['o'] + 100 * sol['n'] + 10 * sol['e'] + sol['y']\n",
        "        if send + more == money:\n",
        "          print(\" send\",\" more\",\" money\")\n",
        "          return send, more, money\n",
        "print(solve2())"
      ]
    }
  ]
}