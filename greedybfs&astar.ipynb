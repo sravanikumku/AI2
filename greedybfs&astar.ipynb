{
  "nbformat": 4,
  "nbformat_minor": 0,
  "metadata": {
    "colab": {
      "provenance": [],
      "authorship_tag": "ABX9TyPcfirMkIXlPTmKo+O3/7QU",
      "include_colab_link": true
    },
    "kernelspec": {
      "name": "python3",
      "display_name": "Python 3"
    },
    "language_info": {
      "name": "python"
    }
  },
  "cells": [
    {
      "cell_type": "markdown",
      "metadata": {
        "id": "view-in-github",
        "colab_type": "text"
      },
      "source": [
        "<a href=\"https://colab.research.google.com/github/sravanikumku/AI2/blob/main/greedybfs%26astar.ipynb\" target=\"_parent\"><img src=\"https://colab.research.google.com/assets/colab-badge.svg\" alt=\"Open In Colab\"/></a>"
      ]
    },
    {
      "cell_type": "code",
      "execution_count": null,
      "metadata": {
        "id": "4Fw9diF5hbU-"
      },
      "outputs": [],
      "source": [
        "import numpy as np\n",
        "import pandas as pd"
      ]
    },
    {
      "cell_type": "code",
      "source": [
        "def greedybfs(a,hsld):\n",
        "  visited=[]\n",
        "  q=[]\n",
        "  path=[0 for j in range(len(a))]\n",
        "  i=int(input(\"Enter initial state\"))\n",
        "  o=int(input(\"Enter final state\"))\n",
        "  q.append(i)\n",
        "  while(True):\n",
        "    u=q.pop(0)\n",
        "    visited.append(u)\n",
        "    if(u==o):\n",
        "      print(\"goal reached\")\n",
        "      dp=[]\n",
        "      j=o\n",
        "      dp.append(o)\n",
        "      while(j!=i):\n",
        "            dp.append(path[j])\n",
        "            j=path[j]\n",
        "      path.append(i)\n",
        "      dp=dp[::-1]\n",
        "      return dp\n",
        "\n",
        "    for j in range(len(a)):\n",
        "      if a[u][j]!=0 and j not in visited:\n",
        "        q.append(j)\n",
        "        path[j]=u\n",
        "    sort(q,hsld)\n",
        "\n",
        "\n",
        "\n",
        "\n",
        "\n",
        "\n",
        "\n"
      ],
      "metadata": {
        "id": "9_MPkXIJiyU1"
      },
      "execution_count": null,
      "outputs": []
    },
    {
      "cell_type": "code",
      "source": [
        "a=[[0,1,2,0,0,0,0,0,0,0],[1,0,0,7,9,5,0,0,0,0],[2,0,0,0,0,0,4,3,6,8],[0,7,0,0,0,0,0,0,0,0],[0,9,0,0,0,0,0,0,0,0],[0,5,0,0,0,0,0,0,0,0],[0,0,4,0,0,0,0,0,0,0],\n",
        "   [0,0,3,0,0,0,0,0,1,0],[0,0,6,0,0,0,0,1,0,0],[0,0,8,0,0,0,0,0,0,0]]\n",
        "hsld={0:8,1:10,2:4,3:15,4:14,6:7,5:12,7:2,8:0,9:11}\n",
        "greedybfs(a,hsld)"
      ],
      "metadata": {
        "colab": {
          "base_uri": "https://localhost:8080/"
        },
        "id": "nQb-MsMCjSpj",
        "outputId": "47b253c4-9fc3-44e6-d5c0-f603a3f93cde"
      },
      "execution_count": null,
      "outputs": [
        {
          "output_type": "stream",
          "name": "stdout",
          "text": [
            "Enter initial state0\n",
            "Enter final state8\n",
            "goal reached\n"
          ]
        },
        {
          "output_type": "execute_result",
          "data": {
            "text/plain": [
              "[0, 2, 8]"
            ]
          },
          "metadata": {},
          "execution_count": 106
        }
      ]
    },
    {
      "cell_type": "code",
      "source": [
        "a=[[0,1,1,0,0,0,0,0,0,0],[0,0,0,1,1,0,0,0,0,0],[0,0,0,0,0,1,1,0,0,0],[0,0,0,0,0,0,0,0,0,0],[0,0,0,0,0,0,0,0,0,0],[0,0,0,0,0,0,0,0,1,0]\n",
        "   ,[0,0,0,0,0,0,0,1,0,1],[0,0,0,0,0,0,0,0,0,0],[0,0,0,0,0,0,0,0,0,0],[0,0,0,0,0,0,0,0,0,0]]\n",
        "hsld={0:13,1:12,2:4,3:7,8:4,9:9,7:0,4:3,5:8,6:2}\n",
        "greedybfs(a,hsld)"
      ],
      "metadata": {
        "colab": {
          "base_uri": "https://localhost:8080/"
        },
        "id": "U4Vz4rj24XCn",
        "outputId": "b0d3b347-806b-4df0-8fa4-e33d658eaf85"
      },
      "execution_count": null,
      "outputs": [
        {
          "output_type": "stream",
          "name": "stdout",
          "text": [
            "Enter initial state0\n",
            "Enter final state7\n",
            "goal reached\n",
            "[0, 2, 6, 7]\n"
          ]
        }
      ]
    },
    {
      "cell_type": "code",
      "source": [
        "def sort(q,hsld):\n",
        "  t=0\n",
        "  for i in range(len(q)):\n",
        "    for j in range(len(q)-i-1):\n",
        "      if hsld[q[j]]>hsld[q[j+1]]:\n",
        "        t=q[j]\n",
        "        q[j]=q[j+1]\n",
        "        q[j+1]=t\n",
        "\n",
        "\n",
        "\n",
        "\n",
        "\n"
      ],
      "metadata": {
        "id": "Jo8rkic0oTcP"
      },
      "execution_count": null,
      "outputs": []
    },
    {
      "cell_type": "code",
      "source": [],
      "metadata": {
        "id": "_kgJqcc11hlE"
      },
      "execution_count": null,
      "outputs": []
    },
    {
      "cell_type": "code",
      "source": [
        "def astar(a,hsld):\n",
        "  visited=[]\n",
        "  q=[]\n",
        "  dp=[]\n",
        "  path=[0 for j in range(len(a))]\n",
        "  i=int(input(\"Enter initial state\"))\n",
        "  o=int(input(\"Enter final state\"))\n",
        "  q.append(i)\n",
        "\n",
        "  cost=[0 for i in range(len(a))]\n",
        "  while(True):\n",
        "    u=q.pop(0)\n",
        "    visited.append(u)\n",
        "    if(u==o):\n",
        "      print(\"goal reached\")\n",
        "      #path(o,visited)\n",
        "      j=o\n",
        "      dp.append(o)\n",
        "      while(j!=i):\n",
        "            dp.append(path[j])\n",
        "            j=path[j]\n",
        "      path.append(i)\n",
        "      dp=dp[::-1]\n",
        "      return dp\n",
        "\n",
        "    for j in range(len(a)):\n",
        "      if a[u][j]!=0 and j not in visited:\n",
        "        q.append(j)\n",
        "        cost[j]=cost[u]+a[u][j]\n",
        "        path[j]=u\n",
        "\n",
        "    sort(q,hsld,cost)\n",
        "\n",
        "\n",
        "\n"
      ],
      "metadata": {
        "id": "N0abywDfzoy7"
      },
      "execution_count": null,
      "outputs": []
    },
    {
      "cell_type": "code",
      "source": [
        "a=[[0,1,2,0,0,0,0,0,0,0],[1,0,0,7,9,5,0,0,0,0],[2,0,0,0,0,0,4,3,6,8],[0,7,0,0,0,0,0,0,0,0],[0,9,0,0,0,0,0,0,0,0],[0,5,0,0,0,0,0,0,0,0],[0,0,4,0,0,0,0,0,0,0],\n",
        "   [0,0,3,0,0,0,0,0,1,0],[0,0,6,0,0,0,0,1,0,0],[0,0,8,0,0,0,0,0,0,0]]\n",
        "hsld={0:8,1:10,2:4,3:15,4:14,6:7,5:12,7:2,8:0,9:11}\n",
        "astar(a,hsld)"
      ],
      "metadata": {
        "colab": {
          "base_uri": "https://localhost:8080/"
        },
        "id": "jmBMKIUx-Ugr",
        "outputId": "d45c1801-0685-4d91-9eae-165f9a8d0776"
      },
      "execution_count": null,
      "outputs": [
        {
          "output_type": "stream",
          "name": "stdout",
          "text": [
            "Enter initial state0\n",
            "Enter final state8\n",
            "goal reached\n"
          ]
        },
        {
          "output_type": "execute_result",
          "data": {
            "text/plain": [
              "[0, 2, 7, 8]"
            ]
          },
          "metadata": {},
          "execution_count": 99
        }
      ]
    },
    {
      "cell_type": "code",
      "source": [
        "def sort(q,hsld,cost):\n",
        "  t=0\n",
        "  for i in range(len(q)):\n",
        "    for j in range(len(q)-i-1):\n",
        "      if hsld[q[j]]+cost[q[j]]>hsld[q[j+1]]+cost[q[j+1]]:\n",
        "        t=q[j]\n",
        "        q[j]=q[j+1]\n",
        "        q[j+1]=t"
      ],
      "metadata": {
        "id": "_gJhMBOM-VWA"
      },
      "execution_count": null,
      "outputs": []
    },
    {
      "cell_type": "code",
      "source": [],
      "metadata": {
        "id": "I7-xA9MhACOM"
      },
      "execution_count": null,
      "outputs": []
    }
  ]
}