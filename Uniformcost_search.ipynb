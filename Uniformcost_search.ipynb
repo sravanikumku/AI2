{
  "nbformat": 4,
  "nbformat_minor": 0,
  "metadata": {
    "colab": {
      "provenance": [],
      "authorship_tag": "ABX9TyNO2xaSmV8qf/Se2DaLpAmq",
      "include_colab_link": true
    },
    "kernelspec": {
      "name": "python3",
      "display_name": "Python 3"
    },
    "language_info": {
      "name": "python"
    }
  },
  "cells": [
    {
      "cell_type": "markdown",
      "metadata": {
        "id": "view-in-github",
        "colab_type": "text"
      },
      "source": [
        "<a href=\"https://colab.research.google.com/github/sravanikumku/AI2/blob/main/Uniformcost_search.ipynb\" target=\"_parent\"><img src=\"https://colab.research.google.com/assets/colab-badge.svg\" alt=\"Open In Colab\"/></a>"
      ]
    },
    {
      "cell_type": "code",
      "execution_count": 85,
      "metadata": {
        "colab": {
          "base_uri": "https://localhost:8080/"
        },
        "id": "Sv0q76rjrnII",
        "outputId": "fb256804-0fa0-4cc1-eff4-d049b227bfe0"
      },
      "outputs": [
        {
          "output_type": "stream",
          "name": "stdout",
          "text": [
            "Enter starting node0\n",
            "Enter goal node4\n",
            "success\n",
            "The distance is: 278\n",
            "The shortest path is  [0, 1, 3, 4]\n"
          ]
        }
      ],
      "source": [
        "def uniformcostsearch(a):\n",
        "      d=[10000 for j in range(len(a))]\n",
        "      cost=[0  for j in range(len(a))]\n",
        "      q=[]\n",
        "      path=[0 for j in range(len(a))]\n",
        "      visited=[]\n",
        "      i=int(input(\"Enter starting node\"))\n",
        "      o=int(input(\"Enter goal node\"))\n",
        "      q.append(i)\n",
        "      if(len(q)==0):\n",
        "        return False\n",
        "      if i==o:\n",
        "            print(\"Success\")\n",
        "            return visited\n",
        "            #return path(a,i,o,visited)\n",
        "      \n",
        "      while(True):\n",
        "            if len(q)==0:\n",
        "                return False\n",
        "            u=q.pop(0)\n",
        "            visited.append(u)\n",
        "            for j in range(len(a)):\n",
        "                if j not in visited and a[u][j]!=0:\n",
        "                    d[j]=(cost[u]+a[u][j])\n",
        "                    cost[j]=cost[u]+a[u][j]\n",
        "                    path[j]=u\n",
        "          \n",
        "            m=sorted(d)\n",
        "            for l in range(len(m)):\n",
        "                if m[l]!=10000:\n",
        "                    q.append(d.index(m[l]))\n",
        "            q=bsort(q,cost)  \n",
        "            \n",
        "            d=[10000 for j in range(len(a))]\n",
        "            if len(q)==0:\n",
        "                print(\"success\")\n",
        "                print(\"The distance is:\",cost[u])\n",
        "                dp=[]\n",
        "                j=o;\n",
        "                dp.append(j)\n",
        "                while(j!=i):\n",
        "                  dp.append(path[j])\n",
        "                  j=path[j]\n",
        "                path.append(i)\n",
        "                dp=dp[::-1]\n",
        "                return dp\n",
        "    \n",
        "print(\"The shortest path is \",uniformcostsearch(a))"
      ]
    },
    {
      "cell_type": "code",
      "source": [
        "a=[[0,80,99,0,0],[80,0,0,97,0],[99,0,0,0,211],[0,97,0,0,101],[0,0,211,101,0]]\n",
        "a"
      ],
      "metadata": {
        "colab": {
          "base_uri": "https://localhost:8080/"
        },
        "id": "DTsmmxyHrn-A",
        "outputId": "01031255-5e56-4e3a-b39a-4639d77c88e9"
      },
      "execution_count": 83,
      "outputs": [
        {
          "output_type": "execute_result",
          "data": {
            "text/plain": [
              "[[0, 80, 99, 0, 0],\n",
              " [80, 0, 0, 97, 0],\n",
              " [99, 0, 0, 0, 211],\n",
              " [0, 97, 0, 0, 101],\n",
              " [0, 0, 211, 101, 0]]"
            ]
          },
          "metadata": {},
          "execution_count": 83
        }
      ]
    },
    {
      "cell_type": "code",
      "source": [
        "def bsort(q,cost):\n",
        "  m=[]\n",
        "  c=[]\n",
        "  for i in q:\n",
        "    m.append(cost[i])\n",
        "  k=sorted(m)\n",
        "  for i in k:\n",
        "    c.append(q[m.index(i)])  \n",
        "  return c"
      ],
      "metadata": {
        "id": "JwdUgLBQruio"
      },
      "execution_count": null,
      "outputs": []
    },
    {
      "cell_type": "code",
      "source": [],
      "metadata": {
        "id": "KJBgcrSTlfx9"
      },
      "execution_count": null,
      "outputs": []
    }
  ]
}