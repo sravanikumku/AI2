{
  "cells": [
    {
      "cell_type": "markdown",
      "metadata": {
        "id": "view-in-github",
        "colab_type": "text"
      },
      "source": [
        "<a href=\"https://colab.research.google.com/github/sravanikumku/AI2/blob/main/Uniformcost_search.ipynb\" target=\"_parent\"><img src=\"https://colab.research.google.com/assets/colab-badge.svg\" alt=\"Open In Colab\"/></a>"
      ]
    },
    {
      "cell_type": "code",
      "execution_count": 14,
      "metadata": {
        "colab": {
          "base_uri": "https://localhost:8080/"
        },
        "id": "Sv0q76rjrnII",
        "outputId": "3bd7f796-6e9e-4fc2-b672-be5579ede50e"
      },
      "outputs": [
        {
          "output_type": "stream",
          "name": "stdout",
          "text": [
            "Enter starting node0\n",
            "Enter goal node6\n",
            "[2, 1]\n",
            "[1, 5]\n",
            "[3, 5]\n",
            "[5, 6]\n",
            "[6, 6, 4]\n",
            "[6, 7, 4, 4]\n",
            "[7, 7, 4, 4, 4]\n",
            "[7, 4, 4, 4, 4]\n",
            "[4, 4, 4, 4, 4]\n",
            "[4, 4, 4, 4]\n",
            "[4, 4, 4]\n",
            "[4, 4]\n",
            "[4]\n",
            "[]\n",
            "success\n",
            "The distance is: 19\n",
            "The shortest path is  [0, 2, 5, 6]\n"
          ]
        }
      ],
      "source": [
        "def uniformcostsearch(a):\n",
        "\n",
        "      cost=[0 for j in range(len(a))]\n",
        "      q=[]\n",
        "      path=[0 for j in range(len(a))]\n",
        "      visited=[]\n",
        "      i=int(input(\"Enter starting node\"))\n",
        "      o=int(input(\"Enter goal node\"))\n",
        "      q.append(i)\n",
        "      if(len(q)==0):\n",
        "        return False\n",
        "      if i==o:\n",
        "            print(\"Success\")\n",
        "            return visited\n",
        "            #return path(a,i,o,visited)\n",
        "\n",
        "      while(True):\n",
        "            if len(q)==0:\n",
        "                return False\n",
        "            u=q.pop(0)\n",
        "            visited.append(u)\n",
        "            for j in range(len(a)):\n",
        "                if j not in visited and a[u][j]!=0 :\n",
        "\n",
        "                    cost[j]=cost[u]+a[u][j]\n",
        "                    q.append(j)\n",
        "                    path[j]=u\n",
        "            sort(q,cost)\n",
        "            print(q)\n",
        "\n",
        "            if len(q)==0:\n",
        "                print(\"success\")\n",
        "                print(\"The distance is:\",cost[o])\n",
        "                dp=[]\n",
        "                j=o;\n",
        "\n",
        "                dp.append(j)\n",
        "                while(j!=i):\n",
        "                  dp.append(path[j])\n",
        "                  j=path[j]\n",
        "                path.append(i)\n",
        "                dp=dp[::-1]\n",
        "                return dp\n",
        "\n",
        "print(\"The shortest path is \",uniformcostsearch(a))"
      ]
    },
    {
      "cell_type": "code",
      "execution_count": 10,
      "metadata": {
        "colab": {
          "base_uri": "https://localhost:8080/"
        },
        "id": "DTsmmxyHrn-A",
        "outputId": "a63e95c4-014f-4cba-f8b5-60321958cdf0"
      },
      "outputs": [
        {
          "output_type": "execute_result",
          "data": {
            "text/plain": [
              "[[0, 80, 99, 0, 0],\n",
              " [80, 0, 0, 97, 0],\n",
              " [99, 0, 0, 0, 211],\n",
              " [0, 97, 0, 0, 101],\n",
              " [0, 0, 211, 101, 0]]"
            ]
          },
          "metadata": {},
          "execution_count": 10
        }
      ],
      "source": [
        "a=[[0,80,99,0,0],[80,0,0,97,0],[99,0,0,0,211],[0,97,0,0,101],[0,0,211,101,0]]\n",
        "a"
      ]
    },
    {
      "cell_type": "code",
      "execution_count": 2,
      "metadata": {
        "id": "JwdUgLBQruio"
      },
      "outputs": [],
      "source": [
        "def sort(q,cost):\n",
        "  t=0\n",
        "  for i in range(len(q)):\n",
        "    for j in range(len(q)-i-1):\n",
        "      if cost[q[j]]>cost[q[j+1]]:\n",
        "        t=q[j]\n",
        "        q[j]=q[j+1]\n",
        "        q[j+1]=t"
      ]
    },
    {
      "cell_type": "code",
      "execution_count": null,
      "metadata": {
        "id": "KJBgcrSTlfx9"
      },
      "outputs": [],
      "source": []
    },
    {
      "cell_type": "code",
      "execution_count": null,
      "metadata": {
        "colab": {
          "base_uri": "https://localhost:8080/"
        },
        "id": "FsZwp9FLm-YJ",
        "outputId": "7887d8d9-6d18-453d-feb9-02ca0e5858f4"
      },
      "outputs": [
        {
          "data": {
            "text/plain": [
              "[[0, 5, 9, 0, 6, 0, 0, 0, 0, 0],\n",
              " [0, 0, 3, 0, 0, 0, 0, 9, 0, 0],\n",
              " [0, 2, 0, 1, 0, 0, 0, 0, 0, 0],\n",
              " [6, 0, 0, 0, 0, 0, 7, 0, 5, 0],\n",
              " [0, 0, 0, 2, 0, 2, 0, 0, 0, 0],\n",
              " [0, 0, 0, 0, 0, 0, 0, 0, 0, 7],\n",
              " [0, 0, 0, 0, 2, 0, 0, 0, 0, 8],\n",
              " [0, 0, 0, 0, 0, 0, 0, 0, 0, 0],\n",
              " [0, 0, 0, 0, 0, 0, 0, 0, 0, 0],\n",
              " [0, 0, 0, 0, 0, 0, 0, 0, 0, 0]]"
            ]
          },
          "execution_count": 4,
          "metadata": {},
          "output_type": "execute_result"
        }
      ],
      "source": [
        "a=np.array([[0 ,0 ,0 ,6, 0, 0, 0, 0 ,0 ,0],\n",
        "[5 ,0 ,2, 0, 0, 0, 0, 0 ,0 ,0],\n",
        "[9 ,3, 0, 0, 0 ,0 ,0 ,0, 0, 0],\n",
        "[0 ,0, 1, 0 ,2, 0 ,0 ,0 ,0 ,0],\n",
        "[6 ,0 ,0, 0, 0, 0 ,2 ,0, 0, 0],\n",
        "[0, 0, 0 ,0 ,2, 0, 0 ,0, 0, 0],\n",
        "[0 ,0, 0 ,7 ,0 ,0 ,0 ,0 ,0 ,0],\n",
        "[0, 9 ,0 ,0, 0, 0 ,0, 0 ,0 ,0],\n",
        "[0 ,0 ,0, 5, 0 ,0 ,0 ,0, 0,0],\n",
        "[0, 0 ,0, 0, 0 ,7 ,8, 0, 0 ,0]]).T\n",
        "a=a.tolist()\n",
        "a"
      ]
    },
    {
      "cell_type": "code",
      "execution_count": null,
      "metadata": {
        "id": "XJ42T8LrruL9"
      },
      "outputs": [],
      "source": [
        "a=[[0,5,9,0,6,0,0,0,0,0],\n",
        "   [0,0,3,0,0,0,0,9,0,0],\n",
        "   [0,2,0,1,0,0,0,0,0,0],\n",
        "   []\n"
      ]
    },
    {
      "cell_type": "code",
      "execution_count": null,
      "metadata": {
        "id": "k7txlASIBJ9t"
      },
      "outputs": [],
      "source": [
        "import numpy as np"
      ]
    },
    {
      "cell_type": "code",
      "execution_count": null,
      "metadata": {
        "id": "NDKf4-kNBLTK"
      },
      "outputs": [],
      "source": [
        "a=[[0,4,0,0,0],[0,0,2,1,0],[0,0,0,0,8],[5,0,0,0,0],[0,0,0,10,0]]"
      ]
    },
    {
      "cell_type": "code",
      "execution_count": 13,
      "metadata": {
        "id": "aGXApQVYg7Mn"
      },
      "outputs": [],
      "source": [
        "a=[[0,6,4,0,0,0,0,0],[0,0,0,4,0,0,0,0],[0,0,0,0,0,8,0,0],\n",
        "   [0,0,0,0,0,0,2,0],[0,0,0,0,0,0,0,0],[0,0,0,0,9,0,7,0],\n",
        "    [0,0,0,0,9,0,0,3],[0,0,0,0,4,0,0,0]]"
      ]
    },
    {
      "cell_type": "markdown",
      "metadata": {
        "id": "zQjk0VJJv-XY"
      },
      "source": []
    },
    {
      "cell_type": "code",
      "execution_count": null,
      "metadata": {
        "colab": {
          "base_uri": "https://localhost:8080/"
        },
        "id": "PEB9gcCGhqbC",
        "outputId": "dd0fc4c5-2b15-4293-cf4d-1697a1ee39f7"
      },
      "outputs": [
        {
          "name": "stdout",
          "output_type": "stream",
          "text": [
            "6\n"
          ]
        }
      ],
      "source": [
        "m=[100,34,190,34,67,92,31]\n",
        "min=1000\n",
        "k=[]\n",
        "for i in range(len(m)):\n",
        "  if m[i]<min:\n",
        "    min=m[i]\n",
        "    ind=i\n",
        "    k.append(ind)\n",
        "\n",
        "print(ind)\n",
        "\n",
        "\n",
        "\n"
      ]
    },
    {
      "cell_type": "code",
      "execution_count": null,
      "metadata": {
        "id": "CP6RwVvj4M0E"
      },
      "outputs": [],
      "source": []
    }
  ],
  "metadata": {
    "colab": {
      "provenance": [],
      "authorship_tag": "ABX9TyN75bZkkFF+HqazHqx77sDH",
      "include_colab_link": true
    },
    "kernelspec": {
      "display_name": "Python 3",
      "name": "python3"
    },
    "language_info": {
      "name": "python"
    }
  },
  "nbformat": 4,
  "nbformat_minor": 0
}