{
  "nbformat": 4,
  "nbformat_minor": 0,
  "metadata": {
    "colab": {
      "provenance": [],
      "authorship_tag": "ABX9TyNFv5eKOKGfjcgng1x271/i",
      "include_colab_link": true
    },
    "kernelspec": {
      "name": "python3",
      "display_name": "Python 3"
    },
    "language_info": {
      "name": "python"
    }
  },
  "cells": [
    {
      "cell_type": "markdown",
      "metadata": {
        "id": "view-in-github",
        "colab_type": "text"
      },
      "source": [
        "<a href=\"https://colab.research.google.com/github/sravanikumku/AI2/blob/main/cryptarithmetic.ipynb\" target=\"_parent\"><img src=\"https://colab.research.google.com/assets/colab-badge.svg\" alt=\"Open In Colab\"/></a>"
      ]
    },
    {
      "cell_type": "code",
      "execution_count": 19,
      "metadata": {
        "id": "HTJRytCj6on7",
        "colab": {
          "base_uri": "https://localhost:8080/"
        },
        "outputId": "cafcd36c-30bd-412d-d123-a63059cb652e"
      },
      "outputs": [
        {
          "output_type": "stream",
          "name": "stdout",
          "text": [
            "['K', 'A', 'N', 'S', 'O', 'H', 'I', 'R', 'E', 'G']\n",
            "{'K': 4, 'A': 9, 'N': 7, 'S': 2, 'O': 5, 'H': 8, 'I': 6, 'R': 0, 'E': 3, 'G': 1}\n",
            "solved\n"
          ]
        }
      ],
      "source": [
        "use=[0 for i in range(10)]\n",
        "nl={}\n",
        "def cryptarithmetic(s1,s2,s3):\n",
        "  d={}\n",
        "  addletter(s1,d)\n",
        "  addletter(s2,d)\n",
        "  addletter(s3,d)\n",
        "\n",
        "  a={}\n",
        "  count=len(d)\n",
        "  if(len(d)>10):\n",
        "    print(\"Invalid strings\")\n",
        "    return\n",
        "  solve2(list(d.keys()),s1,s2,s3)\n",
        "\n",
        "\n",
        "s1=\"KANSAS\"\n",
        "s2=\"OHIO\"\n",
        "s3=\"OREGON\"\n",
        "cryptarithmetic(s1,s2,s3)"
      ]
    },
    {
      "cell_type": "markdown",
      "source": [
        "KANSAS + OHIO = OREGON"
      ],
      "metadata": {
        "id": "jMxYF71dQ5Tl"
      }
    },
    {
      "cell_type": "code",
      "source": [
        "def addletter(s1,d):\n",
        "  for i in s1:\n",
        "    if i not in d.keys():\n",
        "      d[i]=1\n",
        "    else:\n",
        "      d[i]+=1\n"
      ],
      "metadata": {
        "id": "x-4_ssl-DFxo"
      },
      "execution_count": 5,
      "outputs": []
    },
    {
      "cell_type": "code",
      "source": [
        "def isValid(nl,s1,s2,s3):\n",
        "  m1=1\n",
        "  val1=0\n",
        "  val2=0\n",
        "  val3=0\n",
        "\n",
        "  for i in s1[::-1]:\n",
        "    val1+=m1*nl[i]\n",
        "    m1*=10\n",
        "  m1=1\n",
        "\n",
        "  for i in s2[::-1]:\n",
        "    val2+=m1*nl[i]\n",
        "    m1*=10\n",
        "  m1=1\n",
        "  for i in s3[::-1]:\n",
        "    val3+=m1*nl[i]\n",
        "    m1*=10\n",
        "\n",
        "  if (val1+val2)==val3:\n",
        "    print(nl)\n",
        "    return True\n",
        "  return False\n",
        "\n",
        "isValid({'a':1,'b':2},'a','a','b')\n"
      ],
      "metadata": {
        "id": "o3E3TmqxIrhb",
        "colab": {
          "base_uri": "https://localhost:8080/"
        },
        "outputId": "07c1f007-fd48-4939-e249-407a963fc984"
      },
      "execution_count": 15,
      "outputs": [
        {
          "output_type": "stream",
          "name": "stdout",
          "text": [
            "{'a': 1, 'b': 2}\n"
          ]
        },
        {
          "output_type": "execute_result",
          "data": {
            "text/plain": [
              "True"
            ]
          },
          "metadata": {},
          "execution_count": 15
        }
      ]
    },
    {
      "cell_type": "code",
      "source": [
        "import itertools\n",
        "def solve2(letters,s1,s2,s3):\n",
        "    print(letters)\n",
        "    digits = range(10)\n",
        "    for perm in itertools.permutations(digits, len(letters)):\n",
        "        sol = dict(zip(letters, perm))\n",
        "        if sol[s1[0]] == 0 or sol[s3[0]] == 0:\n",
        "            continue\n",
        "\n",
        "        if isValid(sol,s1,s2,s3):\n",
        "          print(\"solved\")\n",
        "          return\n"
      ],
      "metadata": {
        "id": "EW5C7TRVN5pi"
      },
      "execution_count": 18,
      "outputs": []
    },
    {
      "cell_type": "code",
      "source": [],
      "metadata": {
        "id": "Rc0ggNf7NkwC"
      },
      "execution_count": null,
      "outputs": []
    }
  ]
}