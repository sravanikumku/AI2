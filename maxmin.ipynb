{
  "nbformat": 4,
  "nbformat_minor": 0,
  "metadata": {
    "colab": {
      "provenance": [],
      "authorship_tag": "ABX9TyOu2OdMjr1lAo+TCWEvOb0y",
      "include_colab_link": true
    },
    "kernelspec": {
      "name": "python3",
      "display_name": "Python 3"
    },
    "language_info": {
      "name": "python"
    }
  },
  "cells": [
    {
      "cell_type": "markdown",
      "metadata": {
        "id": "view-in-github",
        "colab_type": "text"
      },
      "source": [
        "<a href=\"https://colab.research.google.com/github/sravanikumku/AI2/blob/main/maxmin.ipynb\" target=\"_parent\"><img src=\"https://colab.research.google.com/assets/colab-badge.svg\" alt=\"Open In Colab\"/></a>"
      ]
    },
    {
      "cell_type": "code",
      "execution_count": null,
      "metadata": {
        "id": "krRZsMeTzMfE",
        "colab": {
          "base_uri": "https://localhost:8080/"
        },
        "outputId": "4776cca5-eb62-49be-d459-d014e1addd37"
      },
      "outputs": [
        {
          "output_type": "execute_result",
          "data": {
            "text/plain": [
              "4"
            ]
          },
          "metadata": {},
          "execution_count": 122
        }
      ],
      "source": [
        "def maxmin(a):\n",
        "  l=[]\n",
        "  keys=list(a.keys())[::-1]\n",
        "  for i in keys:\n",
        "    if a[i][-1]==-1:\n",
        "      a[i]=a[i][1]\n",
        "    else:\n",
        "      l=[]\n",
        "      for j in a[i][:-1]:\n",
        "        if type(a[j]) is int:\n",
        "          l.append(a[j])\n",
        "      if a[i][-1]==1:\n",
        "        a[i]=max(l)\n",
        "      else:\n",
        "        a[i]=min(l)\n",
        "\n",
        "  return a[keys[-1]]\n",
        "\n",
        "\n",
        "\n",
        "\n",
        "\n",
        "\n",
        "\n",
        "maxmin(a)"
      ]
    },
    {
      "cell_type": "code",
      "source": [
        "a={'a': ['b', 'c', 1], 'b': ['a', 'd', 'e', 0], 'c': ['f', 'g', 'a', 0], 'd': ['b', 'h', 'i', 1], 'e': ['b', 'j', 'k', 1], 'f': ['c', 'l', 'm', 1], 'g': ['c', 'n', 'o', 1], 'h': ['d',-1,-1], 'i': ['d',4,-1], 'j': ['e',2,-1], 'k': ['e',6,-1], 'l': ['f',-3,-1], 'm': ['f',-5,-1], 'n': ['g',0,-1], 'o': ['g',7,-1]}"
      ],
      "metadata": {
        "id": "kyQ0j9EM1bK8"
      },
      "execution_count": null,
      "outputs": []
    },
    {
      "cell_type": "code",
      "source": [
        "len(a['h'])\n",
        "a['g']\n",
        "a['h']"
      ],
      "metadata": {
        "colab": {
          "base_uri": "https://localhost:8080/"
        },
        "id": "lx0n0c8B4sSH",
        "outputId": "0ec82d6c-74dd-4468-b432-a85b41e2712a"
      },
      "execution_count": null,
      "outputs": [
        {
          "output_type": "execute_result",
          "data": {
            "text/plain": [
              "[-1]"
            ]
          },
          "metadata": {},
          "execution_count": 44
        }
      ]
    },
    {
      "cell_type": "code",
      "source": [],
      "metadata": {
        "id": "ctNibM2jCEbW"
      },
      "execution_count": null,
      "outputs": []
    }
  ]
}