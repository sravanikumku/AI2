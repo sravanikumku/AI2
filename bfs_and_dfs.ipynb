{
  "nbformat": 4,
  "nbformat_minor": 0,
  "metadata": {
    "colab": {
      "provenance": [],
      "authorship_tag": "ABX9TyPZiZcwENA0Wbpa3bCZCu6A",
      "include_colab_link": true
    },
    "kernelspec": {
      "name": "python3",
      "display_name": "Python 3"
    },
    "language_info": {
      "name": "python"
    }
  },
  "cells": [
    {
      "cell_type": "markdown",
      "metadata": {
        "id": "view-in-github",
        "colab_type": "text"
      },
      "source": [
        "<a href=\"https://colab.research.google.com/github/sravanikumku/AI2/blob/main/bfs_and_dfs.ipynb\" target=\"_parent\"><img src=\"https://colab.research.google.com/assets/colab-badge.svg\" alt=\"Open In Colab\"/></a>"
      ]
    },
    {
      "cell_type": "code",
      "execution_count": null,
      "metadata": {
        "colab": {
          "base_uri": "https://localhost:8080/"
        },
        "id": "F_D63Rcg9wNx",
        "outputId": "ace3adce-8ea1-48b6-8001-a6269175cc09"
      },
      "outputs": [
        {
          "output_type": "stream",
          "name": "stdout",
          "text": [
            "Enter initial nodeB\n",
            "Enter final nodeC\n",
            "['B', 'A', 'D', 'E']\n",
            "['B', 'A', 'C']\n"
          ]
        }
      ],
      "source": [
        "def bfs():\n",
        "  a={\n",
        "    'A':['B','C'],\n",
        "    'B':['A','D','E'],\n",
        "    'C':['A','F','G'],\n",
        "    'D':['B'],\n",
        "    'E':['B'],\n",
        "    'F':['C'],\n",
        "    'G':['C']}\n",
        "  visited=[]\n",
        "  q=[]\n",
        "  i=input(\"Enter initial node\")\n",
        "  o=input(\"Enter final node\")\n",
        "  u=i\n",
        "  q.append(u)\n",
        "  if(len(q)==0):\n",
        "    return False\n",
        "  if o==u :\n",
        "    print(\"success\")\n",
        "    return path(a,i,o,visited)\n",
        "  while(True):\n",
        "         if(len(q)==0):\n",
        "           return False\n",
        "         \n",
        "         u=q.pop(0)\n",
        "         if(u==o):\n",
        "           print(visited)\n",
        "           return path(a,i,o,visited)\n",
        "         visited.append(u)\n",
        "\n",
        "         \n",
        "         for i in a[u]:\n",
        "           if i not in visited :\n",
        "             q.append(i)\n",
        "  \n",
        "bfs()\n",
        "  \n"
      ]
    },
    {
      "cell_type": "code",
      "source": [],
      "metadata": {
        "id": "naDu_BkrMZ1J"
      },
      "execution_count": null,
      "outputs": []
    },
    {
      "cell_type": "code",
      "source": [
        "def path(a,i,o,visited):\n",
        "  p=[]\n",
        "  p.append(o)\n",
        "  for i in visited[::-1]:\n",
        "    if o in a[i]:\n",
        "      o=i\n",
        "      p.append(i)\n",
        "  print(p[::-1])\n",
        "  \n",
        "\n",
        "   "
      ],
      "metadata": {
        "id": "xCwS2gnPBzXs"
      },
      "execution_count": null,
      "outputs": []
    },
    {
      "cell_type": "code",
      "source": [
        "def dfs():\n",
        "     a={\n",
        "    'A':['B','C'],\n",
        "    'B':['A','D','E'],\n",
        "    'C':['A','F','G'],\n",
        "    'D':['B'],\n",
        "    'E':['B'],\n",
        "    'F':['C'],\n",
        "    'G':['C']\n",
        "     }\n",
        "     visited=[]\n",
        "     ip=input(\"Enter initial node\")\n",
        "     o=input(\"Enter final node\")\n",
        "     s=[]\n",
        "     s.append(ip)\n",
        "     visited=[]\n",
        "     \n",
        "     while(len(s)!=0):\n",
        "       visited.append(s[0])\n",
        "       for i in a[s.pop(0)]:\n",
        "         if i not in visited and i!=o:\n",
        "           s.insert(i,0)\n",
        "         if i==o:\n",
        "           path(a,i,o,visited)\n",
        "           print(\"goal state reached\")\n",
        "           break;\n",
        "     print(\"Not found\")\n",
        "\n",
        "\n",
        "         "
      ],
      "metadata": {
        "id": "Mv8C_ygzImW0"
      },
      "execution_count": null,
      "outputs": []
    },
    {
      "cell_type": "code",
      "source": [
        "s=[1,2,3]\n",
        "s.pop(0)"
      ],
      "metadata": {
        "id": "OvFRmoUaVUEU"
      },
      "execution_count": null,
      "outputs": []
    },
    {
      "cell_type": "code",
      "source": [
        "def dfs(visited, graph, node,f):  #function for dfs \n",
        "    if node not in visited:\n",
        "        visited.append(node)\n",
        "        for neighbour in graph[node]:\n",
        "            if(neighbour==f):\n",
        "                visited.append(neighbour)\n",
        "                print(\"reached\")\n",
        "                return visited\n",
        "            dfs(visited, graph, neighbour,f)\n",
        "if(dfs([],a,'A','K')):\n",
        "  print(dfs([],a,'A','K'))\n",
        "else:\n",
        "  print(\"not found\")"
      ],
      "metadata": {
        "colab": {
          "base_uri": "https://localhost:8080/"
        },
        "id": "TkJuDelUVXOs",
        "outputId": "6f5d0d66-864c-4e5b-df39-60e1d55597a2"
      },
      "execution_count": 10,
      "outputs": [
        {
          "output_type": "stream",
          "name": "stdout",
          "text": [
            "not found\n"
          ]
        }
      ]
    },
    {
      "cell_type": "code",
      "source": [
        " a={\n",
        "    'A':['B','C'],\n",
        "    'B':['A','D','E'],\n",
        "    'C':['A','F','G'],\n",
        "    'D':['B'],\n",
        "    'E':['B'],\n",
        "    'F':['C'],\n",
        "    'G':['C']\n",
        "     }"
      ],
      "metadata": {
        "id": "GDbDKCoHl4vR"
      },
      "execution_count": 6,
      "outputs": []
    },
    {
      "cell_type": "code",
      "source": [],
      "metadata": {
        "id": "MAGGJARcmCbH"
      },
      "execution_count": null,
      "outputs": []
    }
  ]
}