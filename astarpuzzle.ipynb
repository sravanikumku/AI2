{
  "cells": [
    {
      "cell_type": "markdown",
      "metadata": {
        "id": "view-in-github",
        "colab_type": "text"
      },
      "source": [
        "<a href=\"https://colab.research.google.com/github/sravanikumku/AI2/blob/main/astarpuzzle.ipynb\" target=\"_parent\"><img src=\"https://colab.research.google.com/assets/colab-badge.svg\" alt=\"Open In Colab\"/></a>"
      ]
    },
    {
      "cell_type": "code",
      "execution_count": 111,
      "metadata": {
        "colab": {
          "base_uri": "https://localhost:8080/"
        },
        "id": "yxbTFCoalKzP",
        "outputId": "b0a416ed-3552-4ece-add9-072a1ec29d37"
      },
      "outputs": [
        {
          "output_type": "stream",
          "name": "stdout",
          "text": [
            "[[1, 2, 3], [8, 0, 4], [7, 6, 5]]\n",
            "[[1, 2, 3], [0, 8, 4], [7, 6, 5]]\n",
            "[[1, 2, 3], [8, 4, 0], [7, 6, 5]]\n",
            "[[1, 2, 0], [8, 4, 3], [7, 6, 5]]\n",
            "[[1, 0, 3], [8, 2, 4], [7, 6, 5]]\n",
            "[[1, 2, 3], [8, 6, 4], [7, 0, 5]]\n",
            "[[0, 2, 3], [1, 8, 4], [7, 6, 5]]\n",
            "[[1, 2, 3], [7, 8, 4], [0, 6, 5]]\n",
            "[[1, 2, 3], [8, 4, 5], [7, 6, 0]]\n",
            "[[1, 0, 2], [8, 4, 3], [7, 6, 5]]\n",
            "[[0, 1, 3], [8, 2, 4], [7, 6, 5]]\n",
            "[[2, 0, 3], [1, 8, 4], [7, 6, 5]]\n",
            "[[0, 1, 2], [8, 4, 3], [7, 6, 5]]\n",
            "[[8, 1, 3], [0, 2, 4], [7, 6, 5]]\n",
            "[[2, 8, 3], [1, 0, 4], [7, 6, 5]]\n",
            "[[8, 1, 2], [0, 4, 3], [7, 6, 5]]\n",
            "[[8, 1, 3], [2, 0, 4], [7, 6, 5]]\n",
            "[[2, 8, 3], [0, 1, 4], [7, 6, 5]]\n",
            "[[2, 8, 3], [1, 4, 0], [7, 6, 5]]\n",
            "[[8, 1, 3], [2, 4, 0], [7, 6, 5]]\n",
            "[[2, 8, 0], [1, 4, 3], [7, 6, 5]]\n",
            "[[8, 1, 0], [2, 4, 3], [7, 6, 5]]\n",
            "[[8, 0, 1], [2, 4, 3], [7, 6, 5]]\n",
            "[[0, 8, 1], [2, 4, 3], [7, 6, 5]]\n",
            "[[2, 8, 1], [0, 4, 3], [7, 6, 5]]\n",
            "Goal reached\n"
          ]
        }
      ],
      "source": [
        "def puzzle8(i,o):\n",
        "  q=[]\n",
        "  visited=[]\n",
        "  i.extend([0])\n",
        "  q.append(i)\n",
        "  g=0\n",
        "  while(True):\n",
        "    u=q.pop(0)\n",
        "    u1=u[:3]\n",
        "    visited.append(u1)\n",
        "    print(u1)\n",
        "    if(u1==o):\n",
        "      print(\"Goal reached\")\n",
        "      break\n",
        "    indexo=[0 for j in range(0,9)]\n",
        "    child=generatechild(u1,findindex(indexo,u1))\n",
        "    for i in range(len(child)):\n",
        "      if child[i] not in visited:\n",
        "        child[i].extend([u[-1]+1])\n",
        "        q.append(child[i])\n",
        "\n",
        "\n",
        "\n",
        "\n",
        "    sort(q,o)\n",
        "\n",
        "\n",
        "\n",
        "\n",
        "\n",
        "\n",
        "\n",
        "\n",
        "\n",
        "\n",
        "\n",
        "\n",
        "\n",
        "\n",
        "\n",
        "\n",
        "\n",
        "\n",
        "\n",
        "\n",
        "\n",
        "\n",
        "\n",
        "\n",
        "puzzle8(i,o)"
      ]
    },
    {
      "cell_type": "code",
      "source": [
        "\n",
        "i=[[1,2,3],[8,0,4],[7,6,5]]\n",
        "o=[[2,8,1],[0,4,3],[7,6,5]]"
      ],
      "metadata": {
        "id": "xkdYsCcuJiE5"
      },
      "execution_count": null,
      "outputs": []
    },
    {
      "cell_type": "code",
      "execution_count": null,
      "metadata": {
        "id": "G_cRHcxhIYfz"
      },
      "outputs": [],
      "source": [
        "def sort(q,o):\n",
        "  for i in range(len(q)):\n",
        "    for j in range(len(q)-i-1):\n",
        "      if m_distance(q[j][:3],o)+q[j][-1]>=m_distance(q[j+1][:3],o)+q[j+1][-1]:\n",
        "        t=q[j]\n",
        "        q[j]=q[j+1]\n",
        "        q[j+1]=t"
      ]
    },
    {
      "cell_type": "code",
      "execution_count": null,
      "metadata": {
        "id": "fvxIXElbmYKF"
      },
      "outputs": [],
      "source": [
        "\n",
        "i=[[2,8,3],[1,6,4],[7,0,5]]\n",
        "o=[[1,2,3],[8,0,4],[7,6,5]]"
      ]
    },
    {
      "cell_type": "code",
      "execution_count": null,
      "metadata": {
        "id": "XoTykGdhnNpJ"
      },
      "outputs": [],
      "source": [
        "import copy\n",
        "def generatechild(u,l):\n",
        "  h=[]\n",
        "  u1=copy.deepcopy(u)\n",
        "  if l[0][0]-1>=0:\n",
        "     h.append(move_up(u,l[0]))\n",
        "\n",
        "  if l[0][0]+1<=2:\n",
        "    h.append(move_down(u,l[0]))\n",
        "  if l[0][1]-1>=0:\n",
        "    h.append(move_left(u,l[0]))\n",
        "  if l[0][1]+1<=2:\n",
        "    h.append(move_right(u,l[0]))\n",
        "\n",
        "\n",
        "  return h"
      ]
    },
    {
      "cell_type": "code",
      "execution_count": null,
      "metadata": {
        "colab": {
          "base_uri": "https://localhost:8080/"
        },
        "id": "RojPCPYTnOyL",
        "outputId": "d7dc8486-0f3a-46a5-9e43-4a5d69c34730"
      },
      "outputs": [
        {
          "output_type": "execute_result",
          "data": {
            "text/plain": [
              "5"
            ]
          },
          "metadata": {},
          "execution_count": 68
        }
      ],
      "source": [
        "def m_distance(i,o):\n",
        "\n",
        "  indexi=[0 for j in range(0,9)]\n",
        "  indexo=[0 for j in range(0,9)]\n",
        "  lo=findindex(indexo,o)\n",
        "  li=findindex(indexi,i)\n",
        "  sum=0\n",
        "  for k in range(1,9):\n",
        "    sum+=abs(lo[k][0]-li[k][0])+abs(lo[k][1]-li[k][1])\n",
        "  return sum\n",
        "m_distance(i,o)"
      ]
    },
    {
      "cell_type": "code",
      "execution_count": null,
      "metadata": {
        "id": "3gxb4Ml8sFWI"
      },
      "outputs": [],
      "source": [
        "def findindex(indexo,l):\n",
        "  for i in range(len(l)):\n",
        "    for j in range(len(l[0])):\n",
        "\n",
        "          indexo[l[i][j]]=[i,j]\n",
        "\n",
        "  return indexo"
      ]
    },
    {
      "cell_type": "code",
      "execution_count": null,
      "metadata": {
        "id": "plNTyOESs2Ug"
      },
      "outputs": [],
      "source": [
        "l=[[1,2,3],[4,5,6]]\n"
      ]
    },
    {
      "cell_type": "code",
      "execution_count": null,
      "metadata": {
        "id": "d_6DfL0as7PA"
      },
      "outputs": [],
      "source": [
        "import copy\n",
        "def move_left(u,l):\n",
        "  u1=copy.deepcopy(u)\n",
        "  l1=[l[0],l[1]-1]\n",
        "  t=u1[l[0]][l[1]]\n",
        "  u1[l[0]][l[1]]=u1[l1[0]][l1[1]]\n",
        "  u1[l1[0]][l1[1]]=t\n",
        " # print(\"Move space to left\")\n",
        "  return u1\n",
        "def move_right(u,l):\n",
        "  u1=copy.deepcopy(u)\n",
        "  l1=[l[0],l[1]+1]\n",
        "  t=u1[l[0]][l[1]]\n",
        "  u1[l[0]][l[1]]=u1[l1[0]][l1[1]]\n",
        "  u1[l1[0]][l1[1]]=t\n",
        "  #print(\"Move space to right\")\n",
        "  return u1\n",
        "def move_up(u,l):\n",
        "  u1=copy.deepcopy(u)\n",
        "  l1=[l[0]-1,l[1]]\n",
        "  t=u1[l[0]][l[1]]\n",
        "  u1[l[0]][l[1]]=u1[l1[0]][l1[1]]\n",
        "  u1[l1[0]][l1[1]]=t\n",
        "  #print(\"Move space to up\")\n",
        "  return u1\n",
        "def move_down(u,l):\n",
        "  u1=copy.deepcopy(u)\n",
        "  l1=[l[0]+1,l[1]]\n",
        "  t=u1[l[0]][l[1]]\n",
        "  u1[l[0]][l[1]]=u1[l1[0]][l1[1]]\n",
        "  u1[l1[0]][l1[1]]=t\n",
        "  #print(\"Move space to down\")\n",
        "  return u1"
      ]
    },
    {
      "cell_type": "code",
      "execution_count": null,
      "metadata": {
        "colab": {
          "base_uri": "https://localhost:8080/"
        },
        "id": "IRd-wkVYBQA-",
        "outputId": "dc519ecb-6f3c-40a9-9d1c-0d556afadc4c"
      },
      "outputs": [
        {
          "name": "stdout",
          "output_type": "stream",
          "text": [
            "[[4, 2, 3], [6, 1, 0], [7, 5, 8]]\n",
            "up\n",
            "left\n",
            "dowm\n"
          ]
        },
        {
          "data": {
            "text/plain": [
              "[[[4, 2, 0], [6, 1, 3], [7, 5, 8]],\n",
              " [[4, 2, 3], [6, 0, 1], [7, 5, 8]],\n",
              " [[4, 2, 3], [6, 1, 8], [7, 5, 0]]]"
            ]
          },
          "execution_count": 65,
          "metadata": {},
          "output_type": "execute_result"
        }
      ],
      "source": [
        "print(i)\n",
        "child=generatechild(i,findindex(indexo,i))\n",
        "child"
      ]
    },
    {
      "cell_type": "code",
      "execution_count": null,
      "metadata": {
        "id": "FwGZEFy8CUz5",
        "colab": {
          "base_uri": "https://localhost:8080/"
        },
        "outputId": "a1de6601-8921-46db-d146-0509d78cae58"
      },
      "outputs": [
        {
          "output_type": "execute_result",
          "data": {
            "text/plain": [
              "[[4, 2, 0], [6, 1, 3], [7, 5, 8], [1]]"
            ]
          },
          "metadata": {},
          "execution_count": 35
        }
      ],
      "source": [
        "l=[[4, 2, 0], [6, 1, 3], [7, 5, 8]]\n",
        "l.append([1])\n",
        "l"
      ]
    },
    {
      "cell_type": "code",
      "source": [
        "print(l)\n",
        "l[-1]\n",
        "p=l[0:3]\n",
        "p"
      ],
      "metadata": {
        "colab": {
          "base_uri": "https://localhost:8080/"
        },
        "id": "Dlr9H7YJtdpu",
        "outputId": "b7580a74-ba59-4cb3-82cf-86f3d8d6ea22"
      },
      "execution_count": null,
      "outputs": [
        {
          "output_type": "stream",
          "name": "stdout",
          "text": [
            "[[4, 2, 0], [6, 1, 3], [7, 5, 8], [1]]\n"
          ]
        },
        {
          "output_type": "execute_result",
          "data": {
            "text/plain": [
              "[[4, 2, 0], [6, 1, 3], [7, 5, 8]]"
            ]
          },
          "metadata": {},
          "execution_count": 37
        }
      ]
    },
    {
      "cell_type": "code",
      "source": [],
      "metadata": {
        "id": "6zmQLc4ztmQ1"
      },
      "execution_count": null,
      "outputs": []
    }
  ],
  "metadata": {
    "colab": {
      "provenance": [],
      "authorship_tag": "ABX9TyO36y345S14W3Te3gkWRvQh",
      "include_colab_link": true
    },
    "kernelspec": {
      "display_name": "Python 3",
      "name": "python3"
    },
    "language_info": {
      "name": "python"
    }
  },
  "nbformat": 4,
  "nbformat_minor": 0
}