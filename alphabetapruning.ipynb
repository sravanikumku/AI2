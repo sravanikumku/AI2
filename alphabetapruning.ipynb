{
  "nbformat": 4,
  "nbformat_minor": 0,
  "metadata": {
    "colab": {
      "provenance": [],
      "authorship_tag": "ABX9TyMIGX4wTyRHV8g/NHIjSBQi",
      "include_colab_link": true
    },
    "kernelspec": {
      "name": "python3",
      "display_name": "Python 3"
    },
    "language_info": {
      "name": "python"
    }
  },
  "cells": [
    {
      "cell_type": "markdown",
      "metadata": {
        "id": "view-in-github",
        "colab_type": "text"
      },
      "source": [
        "<a href=\"https://colab.research.google.com/github/sravanikumku/AI2/blob/main/alphabetapruning.ipynb\" target=\"_parent\"><img src=\"https://colab.research.google.com/assets/colab-badge.svg\" alt=\"Open In Colab\"/></a>"
      ]
    },
    {
      "cell_type": "code",
      "execution_count": null,
      "metadata": {
        "id": "m1yLtC3yz9vV"
      },
      "outputs": [],
      "source": [
        "def alphabetapruning(node,depth,utilities,maximum,target,alpha,beta):\n",
        "  if depth==target:\n",
        "    return utilities[node]\n",
        "  else:\n",
        "    if maximum:\n",
        "      for i in range(2):\n",
        "              r=alphabetapruning(2*(node)+i,depth+1,utilities,False,target,alpha,beta)\n",
        "              alpha=max(r,alpha)\n",
        "              if alpha>=beta:\n",
        "                break\n",
        "      return alpha\n",
        "    else:\n",
        "      for i in range(2):\n",
        "        r=alphabetapruning(2*(node)+i,depth+1,utilities,True,target,alpha,beta)\n",
        "        beta=min(r,beta)\n",
        "        if alpha>=beta:\n",
        "          break\n",
        "      return beta\n",
        "\n",
        "\n"
      ]
    },
    {
      "cell_type": "code",
      "source": [
        "import math\n",
        "alpha=-10000\n",
        "beta=10000\n",
        "n=[2,3,5,9,0,1,7,5]\n",
        "t=math.log(len(n),2)\n",
        "print(alphabetapruning(0,0,n,True,t,alpha,beta))\n"
      ],
      "metadata": {
        "colab": {
          "base_uri": "https://localhost:8080/"
        },
        "id": "2mt1CC8M0fLx",
        "outputId": "90a21f68-66ad-4e03-a90b-435f714b12d8"
      },
      "execution_count": null,
      "outputs": [
        {
          "output_type": "stream",
          "name": "stdout",
          "text": [
            "3\n"
          ]
        }
      ]
    },
    {
      "cell_type": "code",
      "source": [
        "print(t)"
      ],
      "metadata": {
        "colab": {
          "base_uri": "https://localhost:8080/"
        },
        "id": "PE6PjI0m2cjK",
        "outputId": "c96e067a-f5f7-4e1d-f79f-28266d612abf"
      },
      "execution_count": null,
      "outputs": [
        {
          "output_type": "stream",
          "name": "stdout",
          "text": [
            "3.0\n"
          ]
        }
      ]
    },
    {
      "cell_type": "code",
      "source": [],
      "metadata": {
        "id": "tbMK4vHv4-Je"
      },
      "execution_count": null,
      "outputs": []
    }
  ]
}