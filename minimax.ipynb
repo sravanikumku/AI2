{
  "nbformat": 4,
  "nbformat_minor": 0,
  "metadata": {
    "colab": {
      "provenance": [],
      "authorship_tag": "ABX9TyPxc2H4qJXAf2A/tIAefeEn",
      "include_colab_link": true
    },
    "kernelspec": {
      "name": "python3",
      "display_name": "Python 3"
    },
    "language_info": {
      "name": "python"
    }
  },
  "cells": [
    {
      "cell_type": "markdown",
      "metadata": {
        "id": "view-in-github",
        "colab_type": "text"
      },
      "source": [
        "<a href=\"https://colab.research.google.com/github/sravanikumku/AI2/blob/main/minimax.ipynb\" target=\"_parent\"><img src=\"https://colab.research.google.com/assets/colab-badge.svg\" alt=\"Open In Colab\"/></a>"
      ]
    },
    {
      "cell_type": "code",
      "execution_count": null,
      "metadata": {
        "id": "OpSJx6_uu3Ce"
      },
      "outputs": [],
      "source": [
        "def minimax(node,depth,maximum,utilities,target):\n",
        "  if depth==target:\n",
        "    return utilities[node]\n",
        "  if(maximum):\n",
        "    return max(minimax(2*(node),depth+1,False,utilities,target),minimax((2*node)+1,depth+1,False,utilities,target))\n",
        "  else:\n",
        "    return min(minimax(2*(node),depth+1,True,utilities,target),minimax((2*node)+1,depth+1,True,utilities,target))\n"
      ]
    },
    {
      "cell_type": "code",
      "source": [
        "import  math\n",
        "n=[-1,4,2,6,-3,-5,0,7]\n",
        "target=math.log(len(n),2)\n",
        "print(minimax(0,0,True,n,target))"
      ],
      "metadata": {
        "colab": {
          "base_uri": "https://localhost:8080/"
        },
        "id": "rvOaFb_mwhUk",
        "outputId": "57424c37-3c87-416b-86aa-fb0769c46084"
      },
      "execution_count": null,
      "outputs": [
        {
          "output_type": "stream",
          "name": "stdout",
          "text": [
            "4\n"
          ]
        }
      ]
    },
    {
      "cell_type": "code",
      "source": [],
      "metadata": {
        "id": "duOe-T8qyN7L"
      },
      "execution_count": null,
      "outputs": []
    }
  ]
}