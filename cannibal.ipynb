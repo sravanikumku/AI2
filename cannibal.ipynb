{
  "nbformat": 4,
  "nbformat_minor": 0,
  "metadata": {
    "colab": {
      "provenance": [],
      "authorship_tag": "ABX9TyNvbfvC54wxEpUfxnvtvESH",
      "include_colab_link": true
    },
    "kernelspec": {
      "name": "python3",
      "display_name": "Python 3"
    },
    "language_info": {
      "name": "python"
    }
  },
  "cells": [
    {
      "cell_type": "markdown",
      "metadata": {
        "id": "view-in-github",
        "colab_type": "text"
      },
      "source": [
        "<a href=\"https://colab.research.google.com/github/sravanikumku/AI2/blob/main/cannibal.ipynb\" target=\"_parent\"><img src=\"https://colab.research.google.com/assets/colab-badge.svg\" alt=\"Open In Colab\"/></a>"
      ]
    },
    {
      "cell_type": "code",
      "execution_count": null,
      "metadata": {
        "id": "6puK2kHdiuWp",
        "colab": {
          "base_uri": "https://localhost:8080/"
        },
        "outputId": "5f245bbf-d7e8-4f02-a82d-690ff2dc8c26"
      },
      "outputs": [
        {
          "output_type": "stream",
          "name": "stdout",
          "text": [
            "success\n",
            "[[[3, 3, 1], [0, 0, 0]], [[3, 2, 0], [0, 1, 1]], [[3, 1, 0], [0, 2, 1]], [[3, 2, 1], [0, 1, 0]], [[3, 0, 0], [0, 3, 1]], [[3, 1, 1], [0, 2, 0]], [[1, 1, 0], [2, 2, 1]], [[2, 2, 1], [1, 1, 0]], [[0, 2, 0], [3, 1, 1]], [[0, 3, 1], [3, 0, 0]], [[0, 1, 0], [3, 2, 1]], [[0, 2, 1], [3, 1, 0]], [[0, 0, 0], [3, 3, 1]]]\n"
          ]
        },
        {
          "output_type": "execute_result",
          "data": {
            "text/plain": [
              "True"
            ]
          },
          "metadata": {},
          "execution_count": 4
        }
      ],
      "source": [
        "def canni():\n",
        "  visited=[]\n",
        "  q=[]\n",
        "  q1=[[0,0,0],[3,3,1]]\n",
        "  i=[[3,3,1],[0,0,0]]\n",
        "  u=i\n",
        "  q.append(u)\n",
        "  if(len(q)==0):\n",
        "    return False\n",
        "  if q1==u[0] :\n",
        "    print(\"success\")\n",
        "  while(True):\n",
        "         u=q.pop(-1)\n",
        "         if(u==q1):\n",
        "           print(visited)\n",
        "           return visited\n",
        "         visited.append(u)\n",
        "         child=generatechild(u)\n",
        "         for i in child:\n",
        "           if i not in visited and i not in q:\n",
        "             q.append(i)\n",
        "             if(i==q1):\n",
        "               print(\"success\")\n",
        "               #path(visited,i,q1)\n",
        "               visited.append(i)\n",
        "               print(visited)\n",
        "\n",
        "               return True\n",
        "\n",
        "canni()"
      ]
    },
    {
      "cell_type": "code",
      "source": [
        "def generatechild(u):\n",
        "  a=[]\n",
        "  if u[0][2]==1:\n",
        "    m=u[0][0]\n",
        "    c=u[0][1]\n",
        "    mr=u[1][0]\n",
        "    cr=u[1][1]\n",
        "    a.append([[m-1,c-1,0],[mr+1,cr+1,1]])\n",
        "    a.append([[m-2,c,0],[mr+2,cr,1]])\n",
        "    a.append([[m,c-2,0],[mr,cr+2,1]])\n",
        "    a.append([[m,c-1,0],[mr,cr+1,1]])\n",
        "    a.append([[m-1,c,0],[mr+1,cr,1]])\n",
        "\n",
        "  if u[1][2]==1:\n",
        "    m=u[1][0]\n",
        "    c=u[1][1]\n",
        "    mr=u[0][0]\n",
        "    cr=u[0][1]\n",
        "    a.append([[mr+1,cr+1,1],[m-1,c-1,0]])\n",
        "    a.append([[mr+2,cr,1],[m-2,c,0]])\n",
        "    a.append([[mr,cr+2,1],[m,c-2,0]])\n",
        "    a.append([[mr+1,cr,1],[m-1,c,0]])\n",
        "    a.append([[mr,cr+1,1],[m,c-1,0]])\n",
        "\n",
        "  l=check(a)\n",
        "\n",
        "  return l\n",
        "\n"
      ],
      "metadata": {
        "id": "LgSVuVYOjEFs"
      },
      "execution_count": null,
      "outputs": []
    },
    {
      "cell_type": "code",
      "source": [
        "def check(a):\n",
        "  l=[]\n",
        "  for i in a:\n",
        "    if i[0][0]<0 or i[1][0]<0 or i[0][1]<0 or i[1][1]<0:\n",
        "      continue\n",
        "    elif i[0][0]==0 or i[1][0]==0 :\n",
        "      l.append(i)\n",
        "    elif i[0][0]>=i[0][1] and i[1][0]>=i[1][1]:\n",
        "      l.append(i)\n",
        "\n",
        "  return l\n",
        "\n",
        "\n",
        "\n"
      ],
      "metadata": {
        "id": "haTzyLikzTBd"
      },
      "execution_count": null,
      "outputs": []
    },
    {
      "cell_type": "code",
      "source": [
        "[[3,2,2],[3,1,1]]  in [[[3,2,2],[3,1,1]] ,[[1,2,3],[3,2,1]]]"
      ],
      "metadata": {
        "id": "KURPek1Kz1s8",
        "colab": {
          "base_uri": "https://localhost:8080/"
        },
        "outputId": "10d0208d-d76a-485c-ed3a-ec4cc138435a"
      },
      "execution_count": null,
      "outputs": [
        {
          "output_type": "execute_result",
          "data": {
            "text/plain": [
              "True"
            ]
          },
          "metadata": {},
          "execution_count": 50
        }
      ]
    },
    {
      "cell_type": "code",
      "source": [
        "def path(v,i,o):\n",
        "  t=o\n",
        "  p=[]\n",
        "  p.append(o)\n",
        "  for i in v[::-1]:\n",
        "\n",
        "    s2lm=t[0][0]\n",
        "    s2lc=t[0][1]\n",
        "    s2rm=t[1][0]\n",
        "    s2rc=t[1][1]\n",
        "    s1lm=i[0][0]\n",
        "    s1lc=i[0][1]\n",
        "    s1rm=i[1][0]\n",
        "    s1rc=i[1][1]\n",
        "    if i[0][2]==1 and t[0][2]==0 or i[0][2]==0 and t[0][2]==1:\n",
        "      if abs((s2lm+s2lc)-(s1lm+s1lc))==abs((s2rm+s2rc)-(s1rm+s1rc)):\n",
        "        p.append(i)\n",
        "        t=i\n",
        "\n",
        "\n",
        "  for i in p[::-1]:\n",
        "    print(i)\n",
        "\n",
        "\n"
      ],
      "metadata": {
        "id": "GPWWMOF-oOJ4"
      },
      "execution_count": null,
      "outputs": []
    },
    {
      "cell_type": "code",
      "source": [
        "l=[1,2,3]\n",
        "l[1::-1]"
      ],
      "metadata": {
        "colab": {
          "base_uri": "https://localhost:8080/"
        },
        "id": "JiqPQL1oucyK",
        "outputId": "5dfe72ce-fe1c-43be-f910-283122dbb240"
      },
      "execution_count": null,
      "outputs": [
        {
          "output_type": "execute_result",
          "data": {
            "text/plain": [
              "[2, 1]"
            ]
          },
          "metadata": {},
          "execution_count": 82
        }
      ]
    },
    {
      "cell_type": "code",
      "source": [],
      "metadata": {
        "id": "NVB907ZDufPH"
      },
      "execution_count": null,
      "outputs": []
    }
  ]
}